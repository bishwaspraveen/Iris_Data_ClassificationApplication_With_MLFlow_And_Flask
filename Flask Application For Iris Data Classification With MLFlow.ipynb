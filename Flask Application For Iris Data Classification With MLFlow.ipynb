{
 "cells": [
  {
   "cell_type": "markdown",
   "id": "11636748",
   "metadata": {},
   "source": [
    "## MLFlow Model Serving with FastAPI"
   ]
  },
  {
   "cell_type": "code",
   "execution_count": 1,
   "id": "cfa8fea8",
   "metadata": {},
   "outputs": [
    {
     "name": "stdout",
     "output_type": "stream",
     "text": [
      "mlflow, version 1.30.0\n"
     ]
    }
   ],
   "source": [
    "!mlflow --version"
   ]
  },
  {
   "cell_type": "markdown",
   "id": "e42394d9",
   "metadata": {},
   "source": [
    "### Create functions for all the steps involved in complete model training lifecycle\n",
    "Note: Model creation is not the main purpose of this notebook so not everything related to data cleaning and preprocissing is present. Main idea is to understand how to track experiment using MLFlow."
   ]
  },
  {
   "cell_type": "code",
   "execution_count": 14,
   "id": "0b3794d9",
   "metadata": {},
   "outputs": [],
   "source": [
    "import os"
   ]
  },
  {
   "cell_type": "code",
   "execution_count": 2,
   "id": "c8185d5b",
   "metadata": {},
   "outputs": [],
   "source": [
    "def load_data(url):\n",
    "    import pandas as pd\n",
    "    # Load dataset\n",
    "    data = pd.read_csv(filepath_or_buffer=url,sep=',')\n",
    "    return data"
   ]
  },
  {
   "cell_type": "code",
   "execution_count": 3,
   "id": "75479a21",
   "metadata": {},
   "outputs": [],
   "source": [
    "def train_test_pre_processing(final_data,target_column):\n",
    "    X = final_data.loc[:, final_data.columns != target_column]\n",
    "    y = final_data.loc[:, final_data.columns == target_column]\n",
    "    \n",
    "    return X, y"
   ]
  },
  {
   "cell_type": "code",
   "execution_count": 4,
   "id": "5825d668",
   "metadata": {},
   "outputs": [],
   "source": [
    "def training_basic_classifier(X_train,y_train):\n",
    "    from sklearn.linear_model import LogisticRegression\n",
    "    classifier = LogisticRegression()\n",
    "    classifier.fit(X_train,y_train)\n",
    "    \n",
    "    return classifier"
   ]
  },
  {
   "cell_type": "code",
   "execution_count": 5,
   "id": "c34747b2",
   "metadata": {},
   "outputs": [],
   "source": [
    "def predict_on_test_data(model,X_test):\n",
    "    y_pred = model.predict(X_test)\n",
    "    return y_pred"
   ]
  },
  {
   "cell_type": "code",
   "execution_count": 6,
   "id": "2087986e",
   "metadata": {},
   "outputs": [],
   "source": [
    "def predict_prob_on_test_data(model,X_test):\n",
    "    y_pred = model.predict_proba(X_test)\n",
    "    return y_pred"
   ]
  },
  {
   "cell_type": "code",
   "execution_count": 7,
   "id": "3ac32a7c",
   "metadata": {},
   "outputs": [],
   "source": [
    "def get_metrics(y_true, y_pred, y_pred_prob):\n",
    "    from sklearn.metrics import accuracy_score,precision_score,recall_score,log_loss\n",
    "    acc = accuracy_score(y_true, y_pred)\n",
    "    prec = precision_score(y_true, y_pred,average='micro')\n",
    "    recall = recall_score(y_true, y_pred,average='micro')\n",
    "    #entropy = log_loss(y_true, y_pred_prob)\n",
    "    return {'accuracy': round(acc, 2), 'precision': round(prec, 2), 'recall': round(recall, 2)}"
   ]
  },
  {
   "cell_type": "code",
   "execution_count": 24,
   "id": "f767837c",
   "metadata": {},
   "outputs": [],
   "source": [
    "def create_roc_auc_plot(clf, X_data, y_data):\n",
    "    import matplotlib.pyplot as plt\n",
    "    from sklearn import metrics\n",
    "    metrics.plot_roc_curve(clf, X_data, y_data) \n",
    "    plt.savefig(os.getcwd() + '\\classificationPlots\\roc_auc_curve.png')"
   ]
  },
  {
   "cell_type": "code",
   "execution_count": 25,
   "id": "83ae255b",
   "metadata": {},
   "outputs": [],
   "source": [
    "def create_confusion_matrix_plot(clf, X_test, y_test):\n",
    "    import matplotlib.pyplot as plt\n",
    "    from sklearn.metrics import plot_confusion_matrix\n",
    "    plot_confusion_matrix(clf, X_test, y_test)\n",
    "    plt.savefig(os.getcwd() + '\\classificationPlots\\confusion_matrix.png')"
   ]
  },
  {
   "cell_type": "markdown",
   "id": "0b696d16",
   "metadata": {},
   "source": [
    "### Start calling above functions one by one and see the output"
   ]
  },
  {
   "cell_type": "markdown",
   "id": "bf35cdd5",
   "metadata": {},
   "source": [
    "**Data Loading**"
   ]
  },
  {
   "cell_type": "code",
   "execution_count": 15,
   "id": "f0544071",
   "metadata": {},
   "outputs": [
    {
     "data": {
      "text/plain": [
       "'C:\\\\Users\\\\bishw\\\\OneDrive\\\\Desktop\\\\Source_codes\\\\Regression-MLFlow-Flask-Application'"
      ]
     },
     "execution_count": 15,
     "metadata": {},
     "output_type": "execute_result"
    }
   ],
   "source": [
    "os.getcwd()"
   ]
  },
  {
   "cell_type": "code",
   "execution_count": 18,
   "id": "c828739b",
   "metadata": {},
   "outputs": [
    {
     "data": {
      "text/html": [
       "<div>\n",
       "<style scoped>\n",
       "    .dataframe tbody tr th:only-of-type {\n",
       "        vertical-align: middle;\n",
       "    }\n",
       "\n",
       "    .dataframe tbody tr th {\n",
       "        vertical-align: top;\n",
       "    }\n",
       "\n",
       "    .dataframe thead th {\n",
       "        text-align: right;\n",
       "    }\n",
       "</style>\n",
       "<table border=\"1\" class=\"dataframe\">\n",
       "  <thead>\n",
       "    <tr style=\"text-align: right;\">\n",
       "      <th></th>\n",
       "      <th>sepal-length</th>\n",
       "      <th>sepal-width</th>\n",
       "      <th>petal-length</th>\n",
       "      <th>petal-width</th>\n",
       "      <th>class</th>\n",
       "    </tr>\n",
       "  </thead>\n",
       "  <tbody>\n",
       "    <tr>\n",
       "      <th>0</th>\n",
       "      <td>5.1</td>\n",
       "      <td>3.5</td>\n",
       "      <td>1.4</td>\n",
       "      <td>0.2</td>\n",
       "      <td>Iris-setosa</td>\n",
       "    </tr>\n",
       "    <tr>\n",
       "      <th>1</th>\n",
       "      <td>4.9</td>\n",
       "      <td>3.0</td>\n",
       "      <td>1.4</td>\n",
       "      <td>0.2</td>\n",
       "      <td>Iris-setosa</td>\n",
       "    </tr>\n",
       "    <tr>\n",
       "      <th>2</th>\n",
       "      <td>4.7</td>\n",
       "      <td>3.2</td>\n",
       "      <td>1.3</td>\n",
       "      <td>0.2</td>\n",
       "      <td>Iris-setosa</td>\n",
       "    </tr>\n",
       "    <tr>\n",
       "      <th>3</th>\n",
       "      <td>4.6</td>\n",
       "      <td>3.1</td>\n",
       "      <td>1.5</td>\n",
       "      <td>0.2</td>\n",
       "      <td>Iris-setosa</td>\n",
       "    </tr>\n",
       "    <tr>\n",
       "      <th>4</th>\n",
       "      <td>5.0</td>\n",
       "      <td>3.6</td>\n",
       "      <td>1.4</td>\n",
       "      <td>0.2</td>\n",
       "      <td>Iris-setosa</td>\n",
       "    </tr>\n",
       "  </tbody>\n",
       "</table>\n",
       "</div>"
      ],
      "text/plain": [
       "   sepal-length  sepal-width  petal-length  petal-width        class\n",
       "0           5.1          3.5           1.4          0.2  Iris-setosa\n",
       "1           4.9          3.0           1.4          0.2  Iris-setosa\n",
       "2           4.7          3.2           1.3          0.2  Iris-setosa\n",
       "3           4.6          3.1           1.5          0.2  Iris-setosa\n",
       "4           5.0          3.6           1.4          0.2  Iris-setosa"
      ]
     },
     "execution_count": 18,
     "metadata": {},
     "output_type": "execute_result"
    }
   ],
   "source": [
    "import pandas\n",
    "data = pandas.read_csv(os.getcwd() + '\\dataset\\iris-train.csv')\n",
    "data.head()"
   ]
  },
  {
   "cell_type": "markdown",
   "id": "1c8c56ed",
   "metadata": {},
   "source": [
    "**Train-Test Split**"
   ]
  },
  {
   "cell_type": "code",
   "execution_count": 19,
   "id": "31cc680a",
   "metadata": {},
   "outputs": [],
   "source": [
    "target_column = 'class'\n",
    "X_train, y_train = train_test_pre_processing(data, target_column)"
   ]
  },
  {
   "cell_type": "code",
   "execution_count": 20,
   "id": "875b89a6",
   "metadata": {},
   "outputs": [
    {
     "data": {
      "text/plain": [
       "(   sepal-length  sepal-width  petal-length  petal-width\n",
       " 0           5.1          3.5           1.4          0.2\n",
       " 1           4.9          3.0           1.4          0.2\n",
       " 2           4.7          3.2           1.3          0.2\n",
       " 3           4.6          3.1           1.5          0.2\n",
       " 4           5.0          3.6           1.4          0.2,\n",
       "          class\n",
       " 0  Iris-setosa\n",
       " 1  Iris-setosa\n",
       " 2  Iris-setosa\n",
       " 3  Iris-setosa\n",
       " 4  Iris-setosa)"
      ]
     },
     "execution_count": 20,
     "metadata": {},
     "output_type": "execute_result"
    }
   ],
   "source": [
    "X_train.head(), y_train.head()"
   ]
  },
  {
   "cell_type": "code",
   "execution_count": 21,
   "id": "df551db4",
   "metadata": {},
   "outputs": [],
   "source": [
    "test_data = pandas.read_csv(os.getcwd() + '\\dataset\\iris-train.csv')\n",
    "target_column = 'class'\n",
    "X_test, y_test = train_test_pre_processing(test_data, target_column)"
   ]
  },
  {
   "cell_type": "code",
   "execution_count": 22,
   "id": "4eb6dd35",
   "metadata": {},
   "outputs": [
    {
     "data": {
      "text/plain": [
       "(   sepal-length  sepal-width  petal-length  petal-width\n",
       " 0           5.1          3.5           1.4          0.2\n",
       " 1           4.9          3.0           1.4          0.2\n",
       " 2           4.7          3.2           1.3          0.2\n",
       " 3           4.6          3.1           1.5          0.2\n",
       " 4           5.0          3.6           1.4          0.2,\n",
       "          class\n",
       " 0  Iris-setosa\n",
       " 1  Iris-setosa\n",
       " 2  Iris-setosa\n",
       " 3  Iris-setosa\n",
       " 4  Iris-setosa)"
      ]
     },
     "execution_count": 22,
     "metadata": {},
     "output_type": "execute_result"
    }
   ],
   "source": [
    "X_test.head(), y_test.head()"
   ]
  },
  {
   "cell_type": "markdown",
   "id": "4d214353",
   "metadata": {},
   "source": [
    "**Model Training** (Basic classifier, as here idea is not to create the best model however focus is on MLFlow model serving)"
   ]
  },
  {
   "cell_type": "code",
   "execution_count": 23,
   "id": "503cd606",
   "metadata": {},
   "outputs": [
    {
     "name": "stderr",
     "output_type": "stream",
     "text": [
      "C:\\Users\\bishw\\anaconda3\\envs\\python37\\lib\\site-packages\\sklearn\\utils\\validation.py:993: DataConversionWarning: A column-vector y was passed when a 1d array was expected. Please change the shape of y to (n_samples, ), for example using ravel().\n",
      "  y = column_or_1d(y, warn=True)\n"
     ]
    }
   ],
   "source": [
    "model = training_basic_classifier(X_train,y_train)"
   ]
  },
  {
   "cell_type": "markdown",
   "id": "3b8ddc26",
   "metadata": {},
   "source": [
    "**See the prediction outcome**"
   ]
  },
  {
   "cell_type": "code",
   "execution_count": 26,
   "id": "11b650dc",
   "metadata": {
    "scrolled": true
   },
   "outputs": [
    {
     "name": "stdout",
     "output_type": "stream",
     "text": [
      "['Iris-setosa' 'Iris-setosa' 'Iris-setosa' 'Iris-setosa' 'Iris-setosa'\n",
      " 'Iris-setosa' 'Iris-setosa' 'Iris-setosa' 'Iris-setosa' 'Iris-setosa'\n",
      " 'Iris-setosa' 'Iris-setosa' 'Iris-setosa' 'Iris-setosa' 'Iris-setosa'\n",
      " 'Iris-setosa' 'Iris-setosa' 'Iris-setosa' 'Iris-setosa' 'Iris-setosa'\n",
      " 'Iris-setosa' 'Iris-setosa' 'Iris-setosa' 'Iris-setosa' 'Iris-setosa'\n",
      " 'Iris-setosa' 'Iris-setosa' 'Iris-setosa' 'Iris-setosa' 'Iris-setosa'\n",
      " 'Iris-setosa' 'Iris-setosa' 'Iris-setosa' 'Iris-setosa' 'Iris-setosa'\n",
      " 'Iris-setosa' 'Iris-setosa' 'Iris-setosa' 'Iris-setosa' 'Iris-setosa'\n",
      " 'Iris-setosa' 'Iris-setosa' 'Iris-setosa' 'Iris-setosa' 'Iris-setosa'\n",
      " 'Iris-setosa' 'Iris-setosa' 'Iris-setosa' 'Iris-setosa' 'Iris-setosa'\n",
      " 'Iris-versicolor' 'Iris-versicolor' 'Iris-versicolor' 'Iris-versicolor'\n",
      " 'Iris-versicolor' 'Iris-versicolor' 'Iris-versicolor' 'Iris-versicolor'\n",
      " 'Iris-versicolor' 'Iris-versicolor' 'Iris-versicolor' 'Iris-versicolor'\n",
      " 'Iris-versicolor' 'Iris-versicolor' 'Iris-versicolor' 'Iris-versicolor'\n",
      " 'Iris-versicolor' 'Iris-versicolor' 'Iris-versicolor' 'Iris-versicolor'\n",
      " 'Iris-versicolor' 'Iris-versicolor' 'Iris-versicolor' 'Iris-versicolor'\n",
      " 'Iris-versicolor' 'Iris-versicolor' 'Iris-versicolor' 'Iris-versicolor'\n",
      " 'Iris-versicolor' 'Iris-versicolor' 'Iris-versicolor' 'Iris-versicolor'\n",
      " 'Iris-versicolor' 'Iris-virginica' 'Iris-versicolor' 'Iris-versicolor'\n",
      " 'Iris-versicolor' 'Iris-versicolor' 'Iris-versicolor' 'Iris-versicolor'\n",
      " 'Iris-versicolor' 'Iris-versicolor' 'Iris-versicolor' 'Iris-versicolor'\n",
      " 'Iris-versicolor' 'Iris-versicolor' 'Iris-versicolor' 'Iris-versicolor'\n",
      " 'Iris-versicolor' 'Iris-versicolor' 'Iris-virginica' 'Iris-virginica'\n",
      " 'Iris-virginica' 'Iris-virginica' 'Iris-virginica' 'Iris-virginica'\n",
      " 'Iris-versicolor' 'Iris-virginica' 'Iris-virginica' 'Iris-virginica'\n",
      " 'Iris-virginica' 'Iris-virginica' 'Iris-virginica' 'Iris-virginica'\n",
      " 'Iris-virginica' 'Iris-virginica' 'Iris-virginica' 'Iris-virginica'\n",
      " 'Iris-virginica' 'Iris-versicolor' 'Iris-virginica' 'Iris-virginica'\n",
      " 'Iris-virginica' 'Iris-versicolor' 'Iris-virginica' 'Iris-virginica'\n",
      " 'Iris-versicolor' 'Iris-virginica']\n",
      "[[9.82571915e-01 1.74280287e-02 5.59350166e-08]\n",
      " [9.73496084e-01 2.65037997e-02 1.15877851e-07]\n",
      " [9.86217208e-01 1.37827419e-02 4.99137544e-08]\n",
      " [9.77405857e-01 2.25939936e-02 1.49112751e-07]\n",
      " [9.85898322e-01 1.41016314e-02 4.66607042e-08]\n",
      " [9.70687473e-01 2.93122810e-02 2.45902839e-07]\n",
      " [9.87306144e-01 1.26937782e-02 7.73691179e-08]\n",
      " [9.77365016e-01 2.26348809e-02 1.03169272e-07]\n",
      " [9.80984600e-01 1.90152804e-02 1.19783288e-07]\n",
      " [9.70906319e-01 2.90935619e-02 1.19523922e-07]\n",
      " [9.77324088e-01 2.26758402e-02 7.13815388e-08]\n",
      " [9.76195881e-01 2.38039601e-02 1.58856296e-07]\n",
      " [9.76200779e-01 2.37991366e-02 8.43246868e-08]\n",
      " [9.92504745e-01 7.49523728e-03 1.74776768e-08]\n",
      " [9.88695828e-01 1.13041606e-02 1.16308011e-08]\n",
      " [9.86731886e-01 1.32680673e-02 4.64539328e-08]\n",
      " [9.88411182e-01 1.15887822e-02 3.58549918e-08]\n",
      " [9.82262121e-01 1.77378039e-02 7.50369862e-08]\n",
      " [9.57620968e-01 4.23788026e-02 2.29294487e-07]\n",
      " [9.84414524e-01 1.55854000e-02 7.60693082e-08]\n",
      " [9.48943316e-01 5.10563893e-02 2.94346049e-07]\n",
      " [9.82103344e-01 1.78965371e-02 1.19287626e-07]\n",
      " [9.96178344e-01 3.82164997e-03 6.07149754e-09]\n",
      " [9.53617904e-01 4.63813225e-02 7.73196693e-07]\n",
      " [9.52765749e-01 4.72335848e-02 6.66051335e-07]\n",
      " [9.54265449e-01 4.57342432e-02 3.08243243e-07]\n",
      " [9.70487212e-01 2.95124877e-02 2.99887628e-07]\n",
      " [9.75945733e-01 2.40541738e-02 9.27438677e-08]\n",
      " [9.78477981e-01 2.15219522e-02 6.69993739e-08]\n",
      " [9.72371883e-01 2.76279060e-02 2.11414202e-07]\n",
      " [9.65964915e-01 3.40348325e-02 2.52617470e-07]\n",
      " [9.66417031e-01 3.35827650e-02 2.04269520e-07]\n",
      " [9.88537734e-01 1.14622387e-02 2.71053544e-08]\n",
      " [9.89238918e-01 1.07610614e-02 2.06995827e-08]\n",
      " [9.70906319e-01 2.90935619e-02 1.19523922e-07]\n",
      " [9.85649759e-01 1.43502080e-02 3.32290915e-08]\n",
      " [9.80134195e-01 1.98657669e-02 3.81658752e-08]\n",
      " [9.70906319e-01 2.90935619e-02 1.19523922e-07]\n",
      " [9.86646251e-01 1.33536861e-02 6.32702117e-08]\n",
      " [9.75226236e-01 2.47736585e-02 1.05711205e-07]\n",
      " [9.87171213e-01 1.28287423e-02 4.51752287e-08]\n",
      " [9.65552776e-01 3.44469660e-02 2.58114138e-07]\n",
      " [9.89521475e-01 1.04784787e-02 4.62494597e-08]\n",
      " [9.72874731e-01 2.71248066e-02 4.62173020e-07]\n",
      " [9.60139704e-01 3.98596005e-02 6.95290962e-07]\n",
      " [9.75353025e-01 2.46468235e-02 1.51717104e-07]\n",
      " [9.80680385e-01 1.93195232e-02 9.18012123e-08]\n",
      " [9.84115792e-01 1.58841293e-02 7.88478441e-08]\n",
      " [9.79285604e-01 2.07143261e-02 6.96521617e-08]\n",
      " [9.79750955e-01 2.02489706e-02 7.45194128e-08]\n",
      " [1.99870572e-03 9.03080768e-01 9.49205263e-02]\n",
      " [5.37238093e-03 8.84133763e-01 1.10493856e-01]\n",
      " [1.04822789e-03 7.97585033e-01 2.01366739e-01]\n",
      " [1.46725959e-02 9.37073103e-01 4.82543007e-02]\n",
      " [2.27690413e-03 8.50570157e-01 1.47152939e-01]\n",
      " [6.46775782e-03 8.78047078e-01 1.15485164e-01]\n",
      " [3.59103756e-03 7.78660225e-01 2.17748738e-01]\n",
      " [1.44870497e-01 8.50344453e-01 4.78504979e-03]\n",
      " [2.61682964e-03 9.15047807e-01 8.23353636e-02]\n",
      " [3.82564468e-02 9.10791082e-01 5.09524709e-02]\n",
      " [5.54086544e-02 9.35242564e-01 9.34878156e-03]\n",
      " [1.39067136e-02 9.06093699e-01 7.99995870e-02]\n",
      " [8.97158192e-03 9.74697862e-01 1.63305560e-02]\n",
      " [2.89741050e-03 8.22939062e-01 1.74163528e-01]\n",
      " [7.03496800e-02 9.16477705e-01 1.31726149e-02]\n",
      " [4.91794265e-03 9.36271864e-01 5.88101931e-02]\n",
      " [8.05194984e-03 8.08187544e-01 1.83760506e-01]\n",
      " [1.55731164e-02 9.64607488e-01 1.98193960e-02]\n",
      " [1.77831933e-03 8.29597900e-01 1.68623781e-01]\n",
      " [2.29450393e-02 9.57761576e-01 1.92933843e-02]\n",
      " [2.43700158e-03 5.41886572e-01 4.55676427e-01]\n",
      " [1.58777329e-02 9.56353343e-01 2.77689246e-02]\n",
      " [7.48378350e-04 6.82594008e-01 3.16657613e-01]\n",
      " [2.85806759e-03 8.85393678e-01 1.11748254e-01]\n",
      " [6.62702480e-03 9.47344001e-01 4.60289747e-02]\n",
      " [4.74252388e-03 9.30567828e-01 6.46896478e-02]\n",
      " [1.09175048e-03 8.48448160e-01 1.50460090e-01]\n",
      " [6.39200143e-04 6.00080309e-01 3.99280491e-01]\n",
      " [5.12844816e-03 8.42429926e-01 1.52441626e-01]\n",
      " [6.05189971e-02 9.34720482e-01 4.76052132e-03]\n",
      " [2.81291783e-02 9.55274390e-01 1.65964321e-02]\n",
      " [3.62301446e-02 9.53970869e-01 9.79898650e-03]\n",
      " [2.38820240e-02 9.55406690e-01 2.07112862e-02]\n",
      " [5.27849771e-04 4.66356922e-01 5.33115228e-01]\n",
      " [9.42816237e-03 7.86523048e-01 2.04048790e-01]\n",
      " [9.12016017e-03 8.25889816e-01 1.64990024e-01]\n",
      " [2.15519847e-03 8.49272079e-01 1.48572723e-01]\n",
      " [2.67308944e-03 9.21418257e-01 7.59086539e-02]\n",
      " [2.47446932e-02 9.30349352e-01 4.49059543e-02]\n",
      " [1.87385469e-02 9.36344674e-01 4.49167786e-02]\n",
      " [8.09951488e-03 9.05642941e-01 8.62575440e-02]\n",
      " [4.33118218e-03 8.58940833e-01 1.36727985e-01]\n",
      " [1.66815434e-02 9.55771832e-01 2.75466247e-02]\n",
      " [1.20213119e-01 8.75010943e-01 4.77593754e-03]\n",
      " [1.34113482e-02 9.23004791e-01 6.35838608e-02]\n",
      " [1.83237626e-02 9.40309806e-01 4.13664317e-02]\n",
      " [1.57200112e-02 9.28498127e-01 5.57818615e-02]\n",
      " [7.91143692e-03 9.39978221e-01 5.21103424e-02]\n",
      " [2.41692608e-01 7.56062424e-01 2.24496871e-03]\n",
      " [1.77724249e-02 9.36786668e-01 4.54409074e-02]\n",
      " [2.08662816e-06 1.15079386e-02 9.88489975e-01]\n",
      " [3.23585191e-04 2.50746937e-01 7.48929478e-01]\n",
      " [5.23999683e-06 6.42937330e-02 9.35701027e-01]\n",
      " [5.15948003e-05 1.59184947e-01 8.40763458e-01]\n",
      " [7.61170487e-06 4.30933749e-02 9.56899013e-01]\n",
      " [1.60795529e-07 1.64040424e-02 9.83595797e-01]\n",
      " [5.65530923e-03 5.68745272e-01 4.25599419e-01]\n",
      " [1.47462466e-06 6.00666735e-02 9.39931852e-01]\n",
      " [9.81861640e-06 1.14965656e-01 8.85024525e-01]\n",
      " [1.61409113e-06 1.79398217e-02 9.82058564e-01]\n",
      " [3.97897827e-04 3.24738527e-01 6.74863575e-01]\n",
      " [1.07081326e-04 2.31940097e-01 7.67952822e-01]\n",
      " [3.67314133e-05 1.32591346e-01 8.67371922e-01]\n",
      " [3.04940840e-04 2.21277345e-01 7.78417714e-01]\n",
      " [1.06961963e-04 8.01928582e-02 9.19700180e-01]\n",
      " [8.46851043e-05 1.06710352e-01 8.93204963e-01]\n",
      " [8.60787471e-05 2.23109386e-01 7.76804536e-01]\n",
      " [2.55024599e-07 1.37930926e-02 9.86206652e-01]\n",
      " [1.08864466e-08 4.19362283e-03 9.95806366e-01]\n",
      " [4.37270075e-04 5.53182597e-01 4.46380133e-01]\n",
      " [1.12031966e-05 5.77335481e-02 9.42255249e-01]\n",
      " [7.61074482e-04 2.75053795e-01 7.24185130e-01]\n",
      " [9.41778334e-08 1.67604091e-02 9.83239497e-01]\n",
      " [6.66968323e-04 5.02279420e-01 4.97053612e-01]\n",
      " [2.41140363e-05 8.81391998e-02 9.11836686e-01]\n",
      " [9.75121362e-06 1.23266442e-01 8.76723806e-01]\n",
      " [1.16075068e-03 5.56435625e-01 4.42403624e-01]\n",
      " [1.14424500e-03 4.95658417e-01 5.03197338e-01]]\n"
     ]
    }
   ],
   "source": [
    "y_pred = predict_on_test_data(model,X_test)\n",
    "print(y_pred)\n",
    "y_pred_prob = predict_prob_on_test_data(model,X_test)\n",
    "print(y_pred_prob)"
   ]
  },
  {
   "cell_type": "markdown",
   "id": "8ac3d8ab",
   "metadata": {},
   "source": [
    "**print some metrics**"
   ]
  },
  {
   "cell_type": "code",
   "execution_count": 27,
   "id": "12c013fa",
   "metadata": {},
   "outputs": [],
   "source": [
    "run_metrics = get_metrics(y_test, y_pred, y_pred_prob)"
   ]
  },
  {
   "cell_type": "code",
   "execution_count": 28,
   "id": "472e4c77",
   "metadata": {},
   "outputs": [
    {
     "data": {
      "text/plain": [
       "{'accuracy': 0.96, 'precision': 0.96, 'recall': 0.96}"
      ]
     },
     "execution_count": 28,
     "metadata": {},
     "output_type": "execute_result"
    }
   ],
   "source": [
    "run_metrics"
   ]
  },
  {
   "cell_type": "markdown",
   "id": "034ad9f6",
   "metadata": {},
   "source": [
    "**Generate Confusion Matrix**"
   ]
  },
  {
   "cell_type": "code",
   "execution_count": 29,
   "id": "90ca5866",
   "metadata": {},
   "outputs": [
    {
     "name": "stderr",
     "output_type": "stream",
     "text": [
      "C:\\Users\\bishw\\anaconda3\\envs\\python37\\lib\\site-packages\\sklearn\\utils\\deprecation.py:87: FutureWarning: Function plot_confusion_matrix is deprecated; Function `plot_confusion_matrix` is deprecated in 1.0 and will be removed in 1.2. Use one of the class methods: ConfusionMatrixDisplay.from_predictions or ConfusionMatrixDisplay.from_estimator.\n",
      "  warnings.warn(msg, category=FutureWarning)\n"
     ]
    },
    {
     "data": {
      "image/png": "[encoded data removed]",
      "text/plain": [
       "<Figure size 640x480 with 2 Axes>"
      ]
     },
     "metadata": {},
     "output_type": "display_data"
    }
   ],
   "source": [
    "create_confusion_matrix_plot(model, X_test, y_test)"
   ]
  },
  {
   "cell_type": "markdown",
   "id": "6d82507c",
   "metadata": {},
   "source": [
    "### Define create_experiment function to track your model experiment within MLFlow"
   ]
  },
  {
   "cell_type": "code",
   "execution_count": 33,
   "id": "ecf5d174",
   "metadata": {},
   "outputs": [],
   "source": [
    "def create_experiment(experiment_name,run_name, run_metrics,model, confusion_matrix_path = None, \n",
    "                      roc_auc_plot_path = None, run_params=None):\n",
    "    import mlflow\n",
    "    mlflow.set_tracking_uri(\"http://localhost:8000\") \n",
    "    #use above line if you want to use any database like sqlite as backend storage for model else comment this line\n",
    "    mlflow.set_experiment(experiment_name)\n",
    "    \n",
    "    with mlflow.start_run(run_name=run_name):\n",
    "        \n",
    "        if not run_params == None:\n",
    "            for param in run_params:\n",
    "                mlflow.log_param(param, run_params[param])\n",
    "            \n",
    "        for metric in run_metrics:\n",
    "            mlflow.log_metric(metric, run_metrics[metric])\n",
    "        \n",
    "        \n",
    "        \n",
    "        if not confusion_matrix_path == None:\n",
    "            mlflow.log_artifact(confusion_matrix_path, 'confusion_materix')\n",
    "            \n",
    "        if not roc_auc_plot_path == None:\n",
    "            mlflow.log_artifact(roc_auc_plot_path, \"roc_auc_plot\")\n",
    "        \n",
    "        mlflow.set_tag(\"tag1\", \"Iris Classifier\")\n",
    "        mlflow.set_tags({\"tag2\":\"Logistic Regression\", \"tag3\":\"Multiclassification using Ovr - One vs rest class\"})\n",
    "        mlflow.sklearn.log_model(model, \"model\")\n",
    "    print('Run - %s is logged to Experiment - %s' %(run_name, experiment_name))"
   ]
  },
  {
   "cell_type": "markdown",
   "id": "2655b4b7",
   "metadata": {},
   "source": [
    "### Start Mlflow server"
   ]
  },
  {
   "cell_type": "markdown",
   "id": "4bfc4eac",
   "metadata": {},
   "source": [
    "**Prefer to run it from command line**\n",
    "\n",
    "`mlflow ui --backend-store-uri file:///C:...exact-file-path...` This will launch mlflow UI in the browser and you can access it using `localhost:5000` but this uses file as backend to store experiments and model artifacts. It does not support model registry functionality. \n",
    "\n",
    "To use model registry, you need to have some backend database other than the file system. Ex mysql, sqlite or any other DB mentioned in mlflow docs under backend storage. Refer: https://www.mlflow.org/docs/latest/tracking.html?highlight=scenario#how-runs-and-artifacts-are-recorded\n",
    "\n",
    "#### In this case, we will use sqlite as backend, so run this command to start mlflow with backend.\n",
    "`mlflow server --backend-store-uri sqlite:///C:...exact-path.../mlflow.db --default-artifact-root file:///C:...exact-path.../artifacts`"
   ]
  },
  {
   "cell_type": "markdown",
   "id": "62d1f5ec",
   "metadata": {},
   "source": [
    "**Execute the create_experiment function and log experiment**"
   ]
  },
  {
   "cell_type": "code",
   "execution_count": 38,
   "id": "41ed320e",
   "metadata": {},
   "outputs": [
    {
     "name": "stdout",
     "output_type": "stream",
     "text": [
      "Run - iris_classifier_21-02-23 is logged to Experiment - iris_classifier_21-02-23\n"
     ]
    }
   ],
   "source": [
    "from datetime import datetime\n",
    "experiment_name = \"iris_classifier_\"+ str(datetime.now().strftime(\"%d-%m-%y\")) ##basic classifier\n",
    "run_name=\"iris_classifier_\"+str(datetime.now().strftime(\"%d-%m-%y\"))\n",
    "create_experiment(experiment_name,run_name,run_metrics,model, os.getcwd()+'\\classificationPlots\\confusion_matrix.png')"
   ]
  },
  {
   "cell_type": "markdown",
   "id": "15e3c7db",
   "metadata": {},
   "source": [
    "#### Now use the logged model and make some predictions using the below code"
   ]
  },
  {
   "cell_type": "code",
   "execution_count": 40,
   "id": "35482d4f",
   "metadata": {},
   "outputs": [
    {
     "data": {
      "text/plain": [
       "array(['Iris-setosa', 'Iris-setosa', 'Iris-setosa', 'Iris-setosa',\n",
       "       'Iris-setosa', 'Iris-setosa', 'Iris-setosa', 'Iris-setosa',\n",
       "       'Iris-setosa', 'Iris-setosa', 'Iris-setosa', 'Iris-setosa',\n",
       "       'Iris-setosa', 'Iris-setosa', 'Iris-setosa', 'Iris-setosa',\n",
       "       'Iris-setosa', 'Iris-setosa', 'Iris-setosa', 'Iris-setosa',\n",
       "       'Iris-setosa', 'Iris-setosa', 'Iris-setosa', 'Iris-setosa',\n",
       "       'Iris-setosa', 'Iris-setosa', 'Iris-setosa', 'Iris-setosa',\n",
       "       'Iris-setosa', 'Iris-setosa', 'Iris-setosa', 'Iris-setosa',\n",
       "       'Iris-setosa', 'Iris-setosa', 'Iris-setosa', 'Iris-setosa',\n",
       "       'Iris-setosa', 'Iris-setosa', 'Iris-setosa', 'Iris-setosa',\n",
       "       'Iris-setosa', 'Iris-setosa', 'Iris-setosa', 'Iris-setosa',\n",
       "       'Iris-setosa', 'Iris-setosa', 'Iris-setosa', 'Iris-setosa',\n",
       "       'Iris-setosa', 'Iris-setosa', 'Iris-versicolor', 'Iris-versicolor',\n",
       "       'Iris-versicolor', 'Iris-versicolor', 'Iris-versicolor',\n",
       "       'Iris-versicolor', 'Iris-versicolor', 'Iris-versicolor',\n",
       "       'Iris-versicolor', 'Iris-versicolor', 'Iris-versicolor',\n",
       "       'Iris-versicolor', 'Iris-versicolor', 'Iris-versicolor',\n",
       "       'Iris-versicolor', 'Iris-versicolor', 'Iris-versicolor',\n",
       "       'Iris-versicolor', 'Iris-versicolor', 'Iris-versicolor',\n",
       "       'Iris-versicolor', 'Iris-versicolor', 'Iris-versicolor',\n",
       "       'Iris-versicolor', 'Iris-versicolor', 'Iris-versicolor',\n",
       "       'Iris-versicolor', 'Iris-versicolor', 'Iris-versicolor',\n",
       "       'Iris-versicolor', 'Iris-versicolor', 'Iris-versicolor',\n",
       "       'Iris-versicolor', 'Iris-virginica', 'Iris-versicolor',\n",
       "       'Iris-versicolor', 'Iris-versicolor', 'Iris-versicolor',\n",
       "       'Iris-versicolor', 'Iris-versicolor', 'Iris-versicolor',\n",
       "       'Iris-versicolor', 'Iris-versicolor', 'Iris-versicolor',\n",
       "       'Iris-versicolor', 'Iris-versicolor', 'Iris-versicolor',\n",
       "       'Iris-versicolor', 'Iris-versicolor', 'Iris-versicolor',\n",
       "       'Iris-virginica', 'Iris-virginica', 'Iris-virginica',\n",
       "       'Iris-virginica', 'Iris-virginica', 'Iris-virginica',\n",
       "       'Iris-versicolor', 'Iris-virginica', 'Iris-virginica',\n",
       "       'Iris-virginica', 'Iris-virginica', 'Iris-virginica',\n",
       "       'Iris-virginica', 'Iris-virginica', 'Iris-virginica',\n",
       "       'Iris-virginica', 'Iris-virginica', 'Iris-virginica',\n",
       "       'Iris-virginica', 'Iris-versicolor', 'Iris-virginica',\n",
       "       'Iris-virginica', 'Iris-virginica', 'Iris-versicolor',\n",
       "       'Iris-virginica', 'Iris-virginica', 'Iris-versicolor',\n",
       "       'Iris-virginica'], dtype=object)"
      ]
     },
     "execution_count": 40,
     "metadata": {},
     "output_type": "execute_result"
    }
   ],
   "source": [
    "import mlflow\n",
    "logged_model = 'runs:/2fcc8c495eb54685a15836d1b7bfa3fd/model'\n",
    "\n",
    "# Load model as a PyFuncModel.\n",
    "loaded_model = mlflow.pyfunc.load_model(logged_model)\n",
    "\n",
    "# Predict on a Pandas DataFrame.\n",
    "import pandas as pd\n",
    "loaded_model.predict(pd.DataFrame(X_test))"
   ]
  },
  {
   "cell_type": "markdown",
   "id": "8fdd29ef",
   "metadata": {},
   "source": [
    "**Open http://localhost:8000 in the browser, here you will find the recorded experiment**"
   ]
  },
  {
   "cell_type": "markdown",
   "id": "a81bd8e1",
   "metadata": {},
   "source": [
    "### Adding an MLflow Model to the Model Registry\n",
    "Reference: https://www.mlflow.org/docs/latest/model-registry.html\n"
   ]
  },
  {
   "cell_type": "code",
   "execution_count": 43,
   "id": "68bb75a9",
   "metadata": {},
   "outputs": [],
   "source": [
    "def create_exp_and_register_model(experiment_name,run_name,run_metrics,model,confusion_matrix_path = None, \n",
    "                      roc_auc_plot_path = None, run_params=None):\n",
    "    mlflow.set_tracking_uri(\"http://localhost:8000\") \n",
    "    #use above line if you want to use any database like sqlite as backend storage for model else comment this line\n",
    "    mlflow.set_experiment(experiment_name)\n",
    "    with mlflow.start_run(run_name=run_name) as run:\n",
    "        if not run_params == None:\n",
    "            for param in run_params:\n",
    "                mlflow.log_param(param, run_params[param])\n",
    "            \n",
    "        for metric in run_metrics:\n",
    "            mlflow.log_metric(metric, run_metrics[metric])\n",
    "        \n",
    "        if not confusion_matrix_path == None:\n",
    "            mlflow.log_artifact(confusion_matrix_path, os.getcwd()+'\\classificationPlots\\confusion_materix')\n",
    "            \n",
    "        if not roc_auc_plot_path == None:\n",
    "            mlflow.log_artifact(roc_auc_plot_path, os.getcwd()+'\\classificationPlots\\roc_auc_plot')\n",
    "        \n",
    "        mlflow.set_tag(\"tag1\", \"Logistic Regression\")\n",
    "        mlflow.set_tags({\"tag2\":\"Basic Model\", \"tag3\":\"Production\"})\n",
    "        #This is where we are directly registering the model\n",
    "        mlflow.sklearn.log_model(model, \"model\",registered_model_name=\"iris-classifier\")"
   ]
  },
  {
   "cell_type": "markdown",
   "id": "618f1afa",
   "metadata": {},
   "source": [
    "In the above code snippet, if a registered model with the name doesn’t exist, the method registers a new model and creates Version 1. If a registered model with the name exists, the method creates a new model version."
   ]
  },
  {
   "cell_type": "code",
   "execution_count": 45,
   "id": "24ad6273",
   "metadata": {},
   "outputs": [
    {
     "name": "stderr",
     "output_type": "stream",
     "text": [
      "Successfully registered model 'iris-classifier'.\n",
      "2023/02/21 13:56:35 INFO mlflow.tracking._model_registry.client: Waiting up to 300 seconds for model version to finish creation.                     Model name: iris-classifier, version 1\n",
      "Created version '1' of model 'iris-classifier'.\n"
     ]
    }
   ],
   "source": [
    "experiment_name = \"iris_classifier_21-02-23\"\n",
    "run_name=\"iris_classifier_21-02-23\"\n",
    "create_exp_and_register_model(experiment_name,run_name,run_metrics,model,os.getcwd()+'\\classificationPlots\\confusion_matrix.png')"
   ]
  },
  {
   "cell_type": "markdown",
   "id": "3907f50f",
   "metadata": {},
   "source": [
    "### Fetching an MLflow Model from the Model Registry"
   ]
  },
  {
   "cell_type": "markdown",
   "id": "c0869a7d",
   "metadata": {},
   "source": [
    "**Fetch a specific model version**"
   ]
  },
  {
   "cell_type": "code",
   "execution_count": 46,
   "id": "a9032612",
   "metadata": {
    "scrolled": true
   },
   "outputs": [
    {
     "name": "stdout",
     "output_type": "stream",
     "text": [
      "['Iris-setosa' 'Iris-setosa' 'Iris-setosa' 'Iris-setosa' 'Iris-setosa'\n",
      " 'Iris-setosa' 'Iris-setosa' 'Iris-setosa' 'Iris-setosa' 'Iris-setosa'\n",
      " 'Iris-setosa' 'Iris-setosa' 'Iris-setosa' 'Iris-setosa' 'Iris-setosa'\n",
      " 'Iris-setosa' 'Iris-setosa' 'Iris-setosa' 'Iris-setosa' 'Iris-setosa'\n",
      " 'Iris-setosa' 'Iris-setosa' 'Iris-setosa' 'Iris-setosa' 'Iris-setosa'\n",
      " 'Iris-setosa' 'Iris-setosa' 'Iris-setosa' 'Iris-setosa' 'Iris-setosa'\n",
      " 'Iris-setosa' 'Iris-setosa' 'Iris-setosa' 'Iris-setosa' 'Iris-setosa'\n",
      " 'Iris-setosa' 'Iris-setosa' 'Iris-setosa' 'Iris-setosa' 'Iris-setosa'\n",
      " 'Iris-setosa' 'Iris-setosa' 'Iris-setosa' 'Iris-setosa' 'Iris-setosa'\n",
      " 'Iris-setosa' 'Iris-setosa' 'Iris-setosa' 'Iris-setosa' 'Iris-setosa'\n",
      " 'Iris-versicolor' 'Iris-versicolor' 'Iris-versicolor' 'Iris-versicolor'\n",
      " 'Iris-versicolor' 'Iris-versicolor' 'Iris-versicolor' 'Iris-versicolor'\n",
      " 'Iris-versicolor' 'Iris-versicolor' 'Iris-versicolor' 'Iris-versicolor'\n",
      " 'Iris-versicolor' 'Iris-versicolor' 'Iris-versicolor' 'Iris-versicolor'\n",
      " 'Iris-versicolor' 'Iris-versicolor' 'Iris-versicolor' 'Iris-versicolor'\n",
      " 'Iris-versicolor' 'Iris-versicolor' 'Iris-versicolor' 'Iris-versicolor'\n",
      " 'Iris-versicolor' 'Iris-versicolor' 'Iris-versicolor' 'Iris-versicolor'\n",
      " 'Iris-versicolor' 'Iris-versicolor' 'Iris-versicolor' 'Iris-versicolor'\n",
      " 'Iris-versicolor' 'Iris-virginica' 'Iris-versicolor' 'Iris-versicolor'\n",
      " 'Iris-versicolor' 'Iris-versicolor' 'Iris-versicolor' 'Iris-versicolor'\n",
      " 'Iris-versicolor' 'Iris-versicolor' 'Iris-versicolor' 'Iris-versicolor'\n",
      " 'Iris-versicolor' 'Iris-versicolor' 'Iris-versicolor' 'Iris-versicolor'\n",
      " 'Iris-versicolor' 'Iris-versicolor' 'Iris-virginica' 'Iris-virginica'\n",
      " 'Iris-virginica' 'Iris-virginica' 'Iris-virginica' 'Iris-virginica'\n",
      " 'Iris-versicolor' 'Iris-virginica' 'Iris-virginica' 'Iris-virginica'\n",
      " 'Iris-virginica' 'Iris-virginica' 'Iris-virginica' 'Iris-virginica'\n",
      " 'Iris-virginica' 'Iris-virginica' 'Iris-virginica' 'Iris-virginica'\n",
      " 'Iris-virginica' 'Iris-versicolor' 'Iris-virginica' 'Iris-virginica'\n",
      " 'Iris-virginica' 'Iris-versicolor' 'Iris-virginica' 'Iris-virginica'\n",
      " 'Iris-versicolor' 'Iris-virginica']\n",
      "[[9.82571915e-01 1.74280287e-02 5.59350166e-08]\n",
      " [9.73496084e-01 2.65037997e-02 1.15877851e-07]\n",
      " [9.86217208e-01 1.37827419e-02 4.99137544e-08]\n",
      " [9.77405857e-01 2.25939936e-02 1.49112751e-07]\n",
      " [9.85898322e-01 1.41016314e-02 4.66607042e-08]\n",
      " [9.70687473e-01 2.93122810e-02 2.45902839e-07]\n",
      " [9.87306144e-01 1.26937782e-02 7.73691179e-08]\n",
      " [9.77365016e-01 2.26348809e-02 1.03169272e-07]\n",
      " [9.80984600e-01 1.90152804e-02 1.19783288e-07]\n",
      " [9.70906319e-01 2.90935619e-02 1.19523922e-07]\n",
      " [9.77324088e-01 2.26758402e-02 7.13815388e-08]\n",
      " [9.76195881e-01 2.38039601e-02 1.58856296e-07]\n",
      " [9.76200779e-01 2.37991366e-02 8.43246868e-08]\n",
      " [9.92504745e-01 7.49523728e-03 1.74776768e-08]\n",
      " [9.88695828e-01 1.13041606e-02 1.16308011e-08]\n",
      " [9.86731886e-01 1.32680673e-02 4.64539328e-08]\n",
      " [9.88411182e-01 1.15887822e-02 3.58549918e-08]\n",
      " [9.82262121e-01 1.77378039e-02 7.50369862e-08]\n",
      " [9.57620968e-01 4.23788026e-02 2.29294487e-07]\n",
      " [9.84414524e-01 1.55854000e-02 7.60693082e-08]\n",
      " [9.48943316e-01 5.10563893e-02 2.94346049e-07]\n",
      " [9.82103344e-01 1.78965371e-02 1.19287626e-07]\n",
      " [9.96178344e-01 3.82164997e-03 6.07149754e-09]\n",
      " [9.53617904e-01 4.63813225e-02 7.73196693e-07]\n",
      " [9.52765749e-01 4.72335848e-02 6.66051335e-07]\n",
      " [9.54265449e-01 4.57342432e-02 3.08243243e-07]\n",
      " [9.70487212e-01 2.95124877e-02 2.99887628e-07]\n",
      " [9.75945733e-01 2.40541738e-02 9.27438677e-08]\n",
      " [9.78477981e-01 2.15219522e-02 6.69993739e-08]\n",
      " [9.72371883e-01 2.76279060e-02 2.11414202e-07]\n",
      " [9.65964915e-01 3.40348325e-02 2.52617470e-07]\n",
      " [9.66417031e-01 3.35827650e-02 2.04269520e-07]\n",
      " [9.88537734e-01 1.14622387e-02 2.71053544e-08]\n",
      " [9.89238918e-01 1.07610614e-02 2.06995827e-08]\n",
      " [9.70906319e-01 2.90935619e-02 1.19523922e-07]\n",
      " [9.85649759e-01 1.43502080e-02 3.32290915e-08]\n",
      " [9.80134195e-01 1.98657669e-02 3.81658752e-08]\n",
      " [9.70906319e-01 2.90935619e-02 1.19523922e-07]\n",
      " [9.86646251e-01 1.33536861e-02 6.32702117e-08]\n",
      " [9.75226236e-01 2.47736585e-02 1.05711205e-07]\n",
      " [9.87171213e-01 1.28287423e-02 4.51752287e-08]\n",
      " [9.65552776e-01 3.44469660e-02 2.58114138e-07]\n",
      " [9.89521475e-01 1.04784787e-02 4.62494597e-08]\n",
      " [9.72874731e-01 2.71248066e-02 4.62173020e-07]\n",
      " [9.60139704e-01 3.98596005e-02 6.95290962e-07]\n",
      " [9.75353025e-01 2.46468235e-02 1.51717104e-07]\n",
      " [9.80680385e-01 1.93195232e-02 9.18012123e-08]\n",
      " [9.84115792e-01 1.58841293e-02 7.88478441e-08]\n",
      " [9.79285604e-01 2.07143261e-02 6.96521617e-08]\n",
      " [9.79750955e-01 2.02489706e-02 7.45194128e-08]\n",
      " [1.99870572e-03 9.03080768e-01 9.49205263e-02]\n",
      " [5.37238093e-03 8.84133763e-01 1.10493856e-01]\n",
      " [1.04822789e-03 7.97585033e-01 2.01366739e-01]\n",
      " [1.46725959e-02 9.37073103e-01 4.82543007e-02]\n",
      " [2.27690413e-03 8.50570157e-01 1.47152939e-01]\n",
      " [6.46775782e-03 8.78047078e-01 1.15485164e-01]\n",
      " [3.59103756e-03 7.78660225e-01 2.17748738e-01]\n",
      " [1.44870497e-01 8.50344453e-01 4.78504979e-03]\n",
      " [2.61682964e-03 9.15047807e-01 8.23353636e-02]\n",
      " [3.82564468e-02 9.10791082e-01 5.09524709e-02]\n",
      " [5.54086544e-02 9.35242564e-01 9.34878156e-03]\n",
      " [1.39067136e-02 9.06093699e-01 7.99995870e-02]\n",
      " [8.97158192e-03 9.74697862e-01 1.63305560e-02]\n",
      " [2.89741050e-03 8.22939062e-01 1.74163528e-01]\n",
      " [7.03496800e-02 9.16477705e-01 1.31726149e-02]\n",
      " [4.91794265e-03 9.36271864e-01 5.88101931e-02]\n",
      " [8.05194984e-03 8.08187544e-01 1.83760506e-01]\n",
      " [1.55731164e-02 9.64607488e-01 1.98193960e-02]\n",
      " [1.77831933e-03 8.29597900e-01 1.68623781e-01]\n",
      " [2.29450393e-02 9.57761576e-01 1.92933843e-02]\n",
      " [2.43700158e-03 5.41886572e-01 4.55676427e-01]\n",
      " [1.58777329e-02 9.56353343e-01 2.77689246e-02]\n",
      " [7.48378350e-04 6.82594008e-01 3.16657613e-01]\n",
      " [2.85806759e-03 8.85393678e-01 1.11748254e-01]\n",
      " [6.62702480e-03 9.47344001e-01 4.60289747e-02]\n",
      " [4.74252388e-03 9.30567828e-01 6.46896478e-02]\n",
      " [1.09175048e-03 8.48448160e-01 1.50460090e-01]\n",
      " [6.39200143e-04 6.00080309e-01 3.99280491e-01]\n",
      " [5.12844816e-03 8.42429926e-01 1.52441626e-01]\n",
      " [6.05189971e-02 9.34720482e-01 4.76052132e-03]\n",
      " [2.81291783e-02 9.55274390e-01 1.65964321e-02]\n",
      " [3.62301446e-02 9.53970869e-01 9.79898650e-03]\n",
      " [2.38820240e-02 9.55406690e-01 2.07112862e-02]\n",
      " [5.27849771e-04 4.66356922e-01 5.33115228e-01]\n",
      " [9.42816237e-03 7.86523048e-01 2.04048790e-01]\n",
      " [9.12016017e-03 8.25889816e-01 1.64990024e-01]\n",
      " [2.15519847e-03 8.49272079e-01 1.48572723e-01]\n",
      " [2.67308944e-03 9.21418257e-01 7.59086539e-02]\n",
      " [2.47446932e-02 9.30349352e-01 4.49059543e-02]\n",
      " [1.87385469e-02 9.36344674e-01 4.49167786e-02]\n",
      " [8.09951488e-03 9.05642941e-01 8.62575440e-02]\n",
      " [4.33118218e-03 8.58940833e-01 1.36727985e-01]\n",
      " [1.66815434e-02 9.55771832e-01 2.75466247e-02]\n",
      " [1.20213119e-01 8.75010943e-01 4.77593754e-03]\n",
      " [1.34113482e-02 9.23004791e-01 6.35838608e-02]\n",
      " [1.83237626e-02 9.40309806e-01 4.13664317e-02]\n",
      " [1.57200112e-02 9.28498127e-01 5.57818615e-02]\n",
      " [7.91143692e-03 9.39978221e-01 5.21103424e-02]\n",
      " [2.41692608e-01 7.56062424e-01 2.24496871e-03]\n",
      " [1.77724249e-02 9.36786668e-01 4.54409074e-02]\n",
      " [2.08662816e-06 1.15079386e-02 9.88489975e-01]\n",
      " [3.23585191e-04 2.50746937e-01 7.48929478e-01]\n",
      " [5.23999683e-06 6.42937330e-02 9.35701027e-01]\n",
      " [5.15948003e-05 1.59184947e-01 8.40763458e-01]\n",
      " [7.61170487e-06 4.30933749e-02 9.56899013e-01]\n",
      " [1.60795529e-07 1.64040424e-02 9.83595797e-01]\n",
      " [5.65530923e-03 5.68745272e-01 4.25599419e-01]\n",
      " [1.47462466e-06 6.00666735e-02 9.39931852e-01]\n",
      " [9.81861640e-06 1.14965656e-01 8.85024525e-01]\n",
      " [1.61409113e-06 1.79398217e-02 9.82058564e-01]\n",
      " [3.97897827e-04 3.24738527e-01 6.74863575e-01]\n",
      " [1.07081326e-04 2.31940097e-01 7.67952822e-01]\n",
      " [3.67314133e-05 1.32591346e-01 8.67371922e-01]\n",
      " [3.04940840e-04 2.21277345e-01 7.78417714e-01]\n",
      " [1.06961963e-04 8.01928582e-02 9.19700180e-01]\n",
      " [8.46851043e-05 1.06710352e-01 8.93204963e-01]\n",
      " [8.60787471e-05 2.23109386e-01 7.76804536e-01]\n",
      " [2.55024599e-07 1.37930926e-02 9.86206652e-01]\n",
      " [1.08864466e-08 4.19362283e-03 9.95806366e-01]\n",
      " [4.37270075e-04 5.53182597e-01 4.46380133e-01]\n",
      " [1.12031966e-05 5.77335481e-02 9.42255249e-01]\n",
      " [7.61074482e-04 2.75053795e-01 7.24185130e-01]\n",
      " [9.41778334e-08 1.67604091e-02 9.83239497e-01]\n",
      " [6.66968323e-04 5.02279420e-01 4.97053612e-01]\n",
      " [2.41140363e-05 8.81391998e-02 9.11836686e-01]\n",
      " [9.75121362e-06 1.23266442e-01 8.76723806e-01]\n",
      " [1.16075068e-03 5.56435625e-01 4.42403624e-01]\n",
      " [1.14424500e-03 4.95658417e-01 5.03197338e-01]]\n"
     ]
    }
   ],
   "source": [
    "import mlflow.pyfunc\n",
    "\n",
    "model_name = \"iris-classifier\"\n",
    "model_version = 1\n",
    "\n",
    "model = mlflow.pyfunc.load_model(\n",
    "    model_uri=f\"models:/{model_name}/{model_version}\"\n",
    ")\n",
    "\n",
    "y_pred = model.predict(X_test)\n",
    "print(y_pred)\n",
    "\n",
    "sklearn_model = mlflow.sklearn.load_model(\n",
    "    model_uri=f\"models:/{model_name}/{model_version}\"\n",
    ")\n",
    "y_pred_prob = sklearn_model.predict_proba(X_test)\n",
    "print(y_pred_prob)"
   ]
  },
  {
   "cell_type": "markdown",
   "id": "d498465d",
   "metadata": {},
   "source": [
    "**Fetch the latest model version in a specific stage**\n",
    "\n",
    "To fetch a model version by stage, simply provide the model stage as part of the model URI, and it will fetch the most recent version of the model in that stage."
   ]
  },
  {
   "cell_type": "markdown",
   "id": "f66a1fbf",
   "metadata": {},
   "source": [
    "#### Transitioning an MLflow Model’s Stage to Production"
   ]
  },
  {
   "cell_type": "code",
   "execution_count": 47,
   "id": "36d41ae0",
   "metadata": {
    "scrolled": true
   },
   "outputs": [
    {
     "data": {
      "text/plain": [
       "<ModelVersion: creation_timestamp=1677009395981, current_stage='Production', description='', last_updated_timestamp=1677009455001, name='iris-classifier', run_id='e0f081f4b5164e1bbbbe6a74d9721a26', run_link='', source='file:///C:\\\\Users\\\\bishw\\\\OneDrive\\\\Desktop\\\\Source_codes\\\\Regression-MLFlow-Flask-Application\\\\artifacts/1/e0f081f4b5164e1bbbbe6a74d9721a26/artifacts/model', status='READY', status_message='', tags={}, user_id='', version='1'>"
      ]
     },
     "execution_count": 47,
     "metadata": {},
     "output_type": "execute_result"
    }
   ],
   "source": [
    "client = mlflow.tracking.MlflowClient()\n",
    "client.transition_model_version_stage(\n",
    "    name=\"iris-classifier\",\n",
    "    version=1,\n",
    "    stage=\"Production\"\n",
    ")"
   ]
  },
  {
   "cell_type": "code",
   "execution_count": 48,
   "id": "5bf497b2",
   "metadata": {},
   "outputs": [
    {
     "name": "stdout",
     "output_type": "stream",
     "text": [
      "['Iris-setosa' 'Iris-setosa' 'Iris-setosa' 'Iris-setosa' 'Iris-setosa'\n",
      " 'Iris-setosa' 'Iris-setosa' 'Iris-setosa' 'Iris-setosa' 'Iris-setosa'\n",
      " 'Iris-setosa' 'Iris-setosa' 'Iris-setosa' 'Iris-setosa' 'Iris-setosa'\n",
      " 'Iris-setosa' 'Iris-setosa' 'Iris-setosa' 'Iris-setosa' 'Iris-setosa'\n",
      " 'Iris-setosa' 'Iris-setosa' 'Iris-setosa' 'Iris-setosa' 'Iris-setosa'\n",
      " 'Iris-setosa' 'Iris-setosa' 'Iris-setosa' 'Iris-setosa' 'Iris-setosa'\n",
      " 'Iris-setosa' 'Iris-setosa' 'Iris-setosa' 'Iris-setosa' 'Iris-setosa'\n",
      " 'Iris-setosa' 'Iris-setosa' 'Iris-setosa' 'Iris-setosa' 'Iris-setosa'\n",
      " 'Iris-setosa' 'Iris-setosa' 'Iris-setosa' 'Iris-setosa' 'Iris-setosa'\n",
      " 'Iris-setosa' 'Iris-setosa' 'Iris-setosa' 'Iris-setosa' 'Iris-setosa'\n",
      " 'Iris-versicolor' 'Iris-versicolor' 'Iris-versicolor' 'Iris-versicolor'\n",
      " 'Iris-versicolor' 'Iris-versicolor' 'Iris-versicolor' 'Iris-versicolor'\n",
      " 'Iris-versicolor' 'Iris-versicolor' 'Iris-versicolor' 'Iris-versicolor'\n",
      " 'Iris-versicolor' 'Iris-versicolor' 'Iris-versicolor' 'Iris-versicolor'\n",
      " 'Iris-versicolor' 'Iris-versicolor' 'Iris-versicolor' 'Iris-versicolor'\n",
      " 'Iris-versicolor' 'Iris-versicolor' 'Iris-versicolor' 'Iris-versicolor'\n",
      " 'Iris-versicolor' 'Iris-versicolor' 'Iris-versicolor' 'Iris-versicolor'\n",
      " 'Iris-versicolor' 'Iris-versicolor' 'Iris-versicolor' 'Iris-versicolor'\n",
      " 'Iris-versicolor' 'Iris-virginica' 'Iris-versicolor' 'Iris-versicolor'\n",
      " 'Iris-versicolor' 'Iris-versicolor' 'Iris-versicolor' 'Iris-versicolor'\n",
      " 'Iris-versicolor' 'Iris-versicolor' 'Iris-versicolor' 'Iris-versicolor'\n",
      " 'Iris-versicolor' 'Iris-versicolor' 'Iris-versicolor' 'Iris-versicolor'\n",
      " 'Iris-versicolor' 'Iris-versicolor' 'Iris-virginica' 'Iris-virginica'\n",
      " 'Iris-virginica' 'Iris-virginica' 'Iris-virginica' 'Iris-virginica'\n",
      " 'Iris-versicolor' 'Iris-virginica' 'Iris-virginica' 'Iris-virginica'\n",
      " 'Iris-virginica' 'Iris-virginica' 'Iris-virginica' 'Iris-virginica'\n",
      " 'Iris-virginica' 'Iris-virginica' 'Iris-virginica' 'Iris-virginica'\n",
      " 'Iris-virginica' 'Iris-versicolor' 'Iris-virginica' 'Iris-virginica'\n",
      " 'Iris-virginica' 'Iris-versicolor' 'Iris-virginica' 'Iris-virginica'\n",
      " 'Iris-versicolor' 'Iris-virginica']\n"
     ]
    }
   ],
   "source": [
    "import mlflow.pyfunc\n",
    "\n",
    "model_name = \"iris-classifier\"\n",
    "stage = 'Production'\n",
    "\n",
    "model = mlflow.pyfunc.load_model(\n",
    "    model_uri=f\"models:/{model_name}/{stage}\"\n",
    ")\n",
    "\n",
    "y_pred = model.predict(X_test)\n",
    "print(y_pred)"
   ]
  },
  {
   "cell_type": "code",
   "execution_count": 49,
   "id": "2a4d1f43",
   "metadata": {},
   "outputs": [
    {
     "name": "stdout",
     "output_type": "stream",
     "text": [
      "['Iris-virginica']\n",
      "[[8.66113629e-07 1.23255696e-03 9.98766577e-01]]\n"
     ]
    },
    {
     "name": "stderr",
     "output_type": "stream",
     "text": [
      "C:\\Users\\bishw\\anaconda3\\envs\\python37\\lib\\site-packages\\sklearn\\base.py:451: UserWarning: X does not have valid feature names, but LogisticRegression was fitted with feature names\n",
      "  \"X does not have valid feature names, but\"\n",
      "C:\\Users\\bishw\\anaconda3\\envs\\python37\\lib\\site-packages\\sklearn\\base.py:451: UserWarning: X does not have valid feature names, but LogisticRegression was fitted with feature names\n",
      "  \"X does not have valid feature names, but\"\n"
     ]
    }
   ],
   "source": [
    "import mlflow.pyfunc\n",
    "\n",
    "model_name = \"iris-classifier\"\n",
    "stage = 'Production'\n",
    "\n",
    "model = mlflow.sklearn.load_model(\n",
    "    model_uri=f\"models:/{model_name}/{stage}\"\n",
    ")\n",
    "\n",
    "y_pred = model.predict([[1.7,0.3,5.7,2.1]])\n",
    "print(y_pred)\n",
    "y_pred_prob = model.predict_proba([[1.7,0.3,5.7,2.1]])\n",
    "print(y_pred_prob)"
   ]
  },
  {
   "cell_type": "markdown",
   "id": "4b462895",
   "metadata": {},
   "source": [
    "### Serving an MLflow Model from Model Registry"
   ]
  },
  {
   "cell_type": "code",
   "execution_count": 50,
   "id": "91eb4ade",
   "metadata": {},
   "outputs": [],
   "source": [
    "mlflow.set_tracking_uri('http://localhost:8000')"
   ]
  },
  {
   "cell_type": "markdown",
   "id": "e26a7809",
   "metadata": {},
   "source": [
    "**Run this from command line**\n",
    "\n",
    "#### If running on windows, use this command : \n",
    "`set MLFLOW_TRACKING_URI=http://localhost:8000` \n",
    "#### If running on linux, use this command :\n",
    "`export MLFLOW_TRACKING_URI=http://localhost:8000`"
   ]
  },
  {
   "cell_type": "markdown",
   "id": "8034a2ff",
   "metadata": {},
   "source": [
    "## **Now run this command on another anaconda prompt**\n",
    "\n",
    "*Make sure to write the different port - other than the one you used while starting mlflow server*\n",
    "\n",
    "`mlflow models serve --model-uri models:/iris-classifier/Production -p 1234 --no-conda`\n",
    "\n"
   ]
  },
  {
   "cell_type": "markdown",
   "id": "ce3d00cb",
   "metadata": {},
   "source": [
    "### Once the server starts running, make a prediction by calling an endpoint"
   ]
  },
  {
   "cell_type": "code",
   "execution_count": 59,
   "id": "a745b565",
   "metadata": {
    "scrolled": true
   },
   "outputs": [
    {
     "name": "stdout",
     "output_type": "stream",
     "text": [
      "[\"Iris-setosa\"]\n"
     ]
    }
   ],
   "source": [
    "import requests\n",
    "\n",
    "inference_request = {\n",
    "        \"data\": [[1,3.3,0,2.1]]\n",
    "}\n",
    "\n",
    "endpoint = \"http://localhost:1234/invocations\"\n",
    "\n",
    "response = requests.post(endpoint, json=inference_request)\n",
    "\n",
    "print(response.text)"
   ]
  },
  {
   "cell_type": "markdown",
   "id": "9561d908",
   "metadata": {},
   "source": [
    "### Using the same server end-point, make a batch prediction"
   ]
  },
  {
   "cell_type": "code",
   "execution_count": 54,
   "id": "5e447c4b",
   "metadata": {
    "scrolled": true
   },
   "outputs": [
    {
     "data": {
      "text/html": [
       "<div>\n",
       "<style scoped>\n",
       "    .dataframe tbody tr th:only-of-type {\n",
       "        vertical-align: middle;\n",
       "    }\n",
       "\n",
       "    .dataframe tbody tr th {\n",
       "        vertical-align: top;\n",
       "    }\n",
       "\n",
       "    .dataframe thead th {\n",
       "        text-align: right;\n",
       "    }\n",
       "</style>\n",
       "<table border=\"1\" class=\"dataframe\">\n",
       "  <thead>\n",
       "    <tr style=\"text-align: right;\">\n",
       "      <th></th>\n",
       "      <th>sepal-length</th>\n",
       "      <th>sepal-width</th>\n",
       "      <th>petal-length</th>\n",
       "      <th>petal-width</th>\n",
       "    </tr>\n",
       "  </thead>\n",
       "  <tbody>\n",
       "    <tr>\n",
       "      <th>0</th>\n",
       "      <td>5.1</td>\n",
       "      <td>3.5</td>\n",
       "      <td>1.4</td>\n",
       "      <td>0.2</td>\n",
       "    </tr>\n",
       "    <tr>\n",
       "      <th>1</th>\n",
       "      <td>4.9</td>\n",
       "      <td>3.0</td>\n",
       "      <td>1.4</td>\n",
       "      <td>0.2</td>\n",
       "    </tr>\n",
       "    <tr>\n",
       "      <th>2</th>\n",
       "      <td>4.7</td>\n",
       "      <td>3.2</td>\n",
       "      <td>1.3</td>\n",
       "      <td>0.2</td>\n",
       "    </tr>\n",
       "    <tr>\n",
       "      <th>3</th>\n",
       "      <td>4.6</td>\n",
       "      <td>3.1</td>\n",
       "      <td>1.5</td>\n",
       "      <td>0.2</td>\n",
       "    </tr>\n",
       "    <tr>\n",
       "      <th>4</th>\n",
       "      <td>5.0</td>\n",
       "      <td>3.6</td>\n",
       "      <td>1.4</td>\n",
       "      <td>0.2</td>\n",
       "    </tr>\n",
       "    <tr>\n",
       "      <th>...</th>\n",
       "      <td>...</td>\n",
       "      <td>...</td>\n",
       "      <td>...</td>\n",
       "      <td>...</td>\n",
       "    </tr>\n",
       "    <tr>\n",
       "      <th>123</th>\n",
       "      <td>6.3</td>\n",
       "      <td>2.7</td>\n",
       "      <td>4.9</td>\n",
       "      <td>1.8</td>\n",
       "    </tr>\n",
       "    <tr>\n",
       "      <th>124</th>\n",
       "      <td>6.7</td>\n",
       "      <td>3.3</td>\n",
       "      <td>5.7</td>\n",
       "      <td>2.1</td>\n",
       "    </tr>\n",
       "    <tr>\n",
       "      <th>125</th>\n",
       "      <td>7.2</td>\n",
       "      <td>3.2</td>\n",
       "      <td>6.0</td>\n",
       "      <td>1.8</td>\n",
       "    </tr>\n",
       "    <tr>\n",
       "      <th>126</th>\n",
       "      <td>6.2</td>\n",
       "      <td>2.8</td>\n",
       "      <td>4.8</td>\n",
       "      <td>1.8</td>\n",
       "    </tr>\n",
       "    <tr>\n",
       "      <th>127</th>\n",
       "      <td>6.1</td>\n",
       "      <td>3.0</td>\n",
       "      <td>4.9</td>\n",
       "      <td>1.8</td>\n",
       "    </tr>\n",
       "  </tbody>\n",
       "</table>\n",
       "<p>128 rows × 4 columns</p>\n",
       "</div>"
      ],
      "text/plain": [
       "     sepal-length  sepal-width  petal-length  petal-width\n",
       "0             5.1          3.5           1.4          0.2\n",
       "1             4.9          3.0           1.4          0.2\n",
       "2             4.7          3.2           1.3          0.2\n",
       "3             4.6          3.1           1.5          0.2\n",
       "4             5.0          3.6           1.4          0.2\n",
       "..            ...          ...           ...          ...\n",
       "123           6.3          2.7           4.9          1.8\n",
       "124           6.7          3.3           5.7          2.1\n",
       "125           7.2          3.2           6.0          1.8\n",
       "126           6.2          2.8           4.8          1.8\n",
       "127           6.1          3.0           4.9          1.8\n",
       "\n",
       "[128 rows x 4 columns]"
      ]
     },
     "execution_count": 54,
     "metadata": {},
     "output_type": "execute_result"
    }
   ],
   "source": [
    "X_test"
   ]
  },
  {
   "cell_type": "code",
   "execution_count": 60,
   "id": "ce7002b4",
   "metadata": {},
   "outputs": [
    {
     "name": "stdout",
     "output_type": "stream",
     "text": [
      "<Response [200]>\n"
     ]
    }
   ],
   "source": [
    "import requests\n",
    "lst = X_test.values.tolist()\n",
    "inference_request = {\n",
    "        \"data\": lst\n",
    "}\n",
    "endpoint = \"http://localhost:1234/invocations\"\n",
    "response = requests.post(endpoint, json=inference_request)\n",
    "print(response)"
   ]
  },
  {
   "cell_type": "code",
   "execution_count": 56,
   "id": "7a925371",
   "metadata": {},
   "outputs": [
    {
     "name": "stdout",
     "output_type": "stream",
     "text": [
      "[\"Iris-setosa\", \"Iris-setosa\", \"Iris-setosa\", \"Iris-setosa\", \"Iris-setosa\", \"Iris-setosa\", \"Iris-setosa\", \"Iris-setosa\", \"Iris-setosa\", \"Iris-setosa\", \"Iris-setosa\", \"Iris-setosa\", \"Iris-setosa\", \"Iris-setosa\", \"Iris-setosa\", \"Iris-setosa\", \"Iris-setosa\", \"Iris-setosa\", \"Iris-setosa\", \"Iris-setosa\", \"Iris-setosa\", \"Iris-setosa\", \"Iris-setosa\", \"Iris-setosa\", \"Iris-setosa\", \"Iris-setosa\", \"Iris-setosa\", \"Iris-setosa\", \"Iris-setosa\", \"Iris-setosa\", \"Iris-setosa\", \"Iris-setosa\", \"Iris-setosa\", \"Iris-setosa\", \"Iris-setosa\", \"Iris-setosa\", \"Iris-setosa\", \"Iris-setosa\", \"Iris-setosa\", \"Iris-setosa\", \"Iris-setosa\", \"Iris-setosa\", \"Iris-setosa\", \"Iris-setosa\", \"Iris-setosa\", \"Iris-setosa\", \"Iris-setosa\", \"Iris-setosa\", \"Iris-setosa\", \"Iris-setosa\", \"Iris-versicolor\", \"Iris-versicolor\", \"Iris-versicolor\", \"Iris-versicolor\", \"Iris-versicolor\", \"Iris-versicolor\", \"Iris-versicolor\", \"Iris-versicolor\", \"Iris-versicolor\", \"Iris-versicolor\", \"Iris-versicolor\", \"Iris-versicolor\", \"Iris-versicolor\", \"Iris-versicolor\", \"Iris-versicolor\", \"Iris-versicolor\", \"Iris-versicolor\", \"Iris-versicolor\", \"Iris-versicolor\", \"Iris-versicolor\", \"Iris-versicolor\", \"Iris-versicolor\", \"Iris-versicolor\", \"Iris-versicolor\", \"Iris-versicolor\", \"Iris-versicolor\", \"Iris-versicolor\", \"Iris-versicolor\", \"Iris-versicolor\", \"Iris-versicolor\", \"Iris-versicolor\", \"Iris-versicolor\", \"Iris-versicolor\", \"Iris-virginica\", \"Iris-versicolor\", \"Iris-versicolor\", \"Iris-versicolor\", \"Iris-versicolor\", \"Iris-versicolor\", \"Iris-versicolor\", \"Iris-versicolor\", \"Iris-versicolor\", \"Iris-versicolor\", \"Iris-versicolor\", \"Iris-versicolor\", \"Iris-versicolor\", \"Iris-versicolor\", \"Iris-versicolor\", \"Iris-versicolor\", \"Iris-versicolor\", \"Iris-virginica\", \"Iris-virginica\", \"Iris-virginica\", \"Iris-virginica\", \"Iris-virginica\", \"Iris-virginica\", \"Iris-versicolor\", \"Iris-virginica\", \"Iris-virginica\", \"Iris-virginica\", \"Iris-virginica\", \"Iris-virginica\", \"Iris-virginica\", \"Iris-virginica\", \"Iris-virginica\", \"Iris-virginica\", \"Iris-virginica\", \"Iris-virginica\", \"Iris-virginica\", \"Iris-versicolor\", \"Iris-virginica\", \"Iris-virginica\", \"Iris-virginica\", \"Iris-versicolor\", \"Iris-virginica\", \"Iris-virginica\", \"Iris-versicolor\", \"Iris-virginica\"]\n"
     ]
    }
   ],
   "source": [
    "print(response.text)"
   ]
  },
  {
   "cell_type": "code",
   "execution_count": null,
   "id": "b5e3a021",
   "metadata": {},
   "outputs": [],
   "source": []
  }
 ],
 "metadata": {
  "kernelspec": {
   "display_name": "Python 3 (ipykernel)",
   "language": "python",
   "name": "python3"
  },
  "language_info": {
   "codemirror_mode": {
    "name": "ipython",
    "version": 3
   },
   "file_extension": ".py",
   "mimetype": "text/x-python",
   "name": "python",
   "nbconvert_exporter": "python",
   "pygments_lexer": "ipython3",
   "version": "3.7.16"
  }
 },
 "nbformat": 4,
 "nbformat_minor": 5
}
